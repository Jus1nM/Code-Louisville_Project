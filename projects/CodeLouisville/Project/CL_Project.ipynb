{
 "cells": [
  {
   "cell_type": "code",
   "execution_count": null,
   "metadata": {},
   "outputs": [],
   "source": [
    "#import necessary modules\n",
    "import pandas as pd\n",
    "import statistics\n",
    "import matplotlib.pyplot as plt\n",
    "import numpy as np\n",
    "import seaborn as sns"
   ]
  },
  {
   "cell_type": "markdown",
   "metadata": {},
   "source": [
    "List of Fortune 50 companies with company name, company type, CEO's name and their zodiac sign along with their networth; The CEO's networth, not the company's"
   ]
  },
  {
   "cell_type": "code",
   "execution_count": null,
   "metadata": {},
   "outputs": [],
   "source": [
    "#read csv file as a dataframe\n",
    "df = pd.read_csv(\"Fortune50.csv\")\n",
    "df.head(50)"
   ]
  },
  {
   "cell_type": "code",
   "execution_count": null,
   "metadata": {},
   "outputs": [],
   "source": [
    "#clean data - fix typo: replace \"Sagitarius\" with \"Sagittarius\" - found on line 31\n",
    "df['Zodiac'] = df['Zodiac'].str.replace('Sagitarius', 'Sagittarius')"
   ]
  },
  {
   "cell_type": "code",
   "execution_count": null,
   "metadata": {},
   "outputs": [],
   "source": [
    "#quick overview of the dataframe\n",
    "df['Zodiac'].describe()"
   ]
  },
  {
   "cell_type": "code",
   "execution_count": null,
   "metadata": {},
   "outputs": [],
   "source": [
    "#shows how many times each sign occurs within the dataset\n",
    "df['Zodiac'].value_counts()"
   ]
  },
  {
   "cell_type": "markdown",
   "metadata": {},
   "source": [
    "There are 12 unique zodiac signs, and each appears at least once in this dataset."
   ]
  },
  {
   "cell_type": "code",
   "execution_count": null,
   "metadata": {},
   "outputs": [],
   "source": [
    "#shows which signs zodiac sign(s) occur most often\n",
    "df['Zodiac'].mode()"
   ]
  },
  {
   "cell_type": "markdown",
   "metadata": {},
   "source": [
    "As we can see, Capricon, Leo, and Pisces are the three most common, each occuring 6 times with Sagittarius appearing the least amount at only one time."
   ]
  },
  {
   "cell_type": "code",
   "execution_count": null,
   "metadata": {},
   "outputs": [],
   "source": [
    "#finding percentage of Capricorns, the most occuring sign\n",
    "total_capricorns = 6\n",
    "total_ceos = 50\n",
    "percent_capricorn = total_capricorns / total_ceos\n",
    "print(\"Capricorns make up \", (format(percent_capricorn, '.1%'))) #convert float to percent"
   ]
  },
  {
   "cell_type": "markdown",
   "metadata": {},
   "source": [
    "With Capricorn, Leo, and Pisces each occuring 6 times, in total they account for just over one-third of all 50 CEOs, at 36%"
   ]
  },
  {
   "cell_type": "code",
   "execution_count": null,
   "metadata": {},
   "outputs": [],
   "source": [
    "#Piechart showing breakdown of each sign\n",
    "df['Zodiac'].value_counts().plot(kind='pie', figsize=(8,8))"
   ]
  },
  {
   "cell_type": "code",
   "execution_count": null,
   "metadata": {},
   "outputs": [],
   "source": [
    "data = pd.read_csv('Fortune50.csv')\n",
    "\n",
    "#dataframe for each zodiac sign\n",
    "data_aries = data[(data['Zodiac'] == \"Aries\")]\n",
    "data_taurus = data[data['Zodiac'] == \"Taurus\"]\n",
    "data_gemini = data[data['Zodiac'] == \"Gemini\"]\n",
    "data_cancer = data[data['Zodiac'] == \"Cancer\"]\n",
    "data_leo = data[data['Zodiac'] == \"Leo\"]\n",
    "data_virgo = data[data['Zodiac'] == \"Virgo\"]\n",
    "data_libra = data[data['Zodiac'] == \"Libra\"]\n",
    "data_scorpio = data[data['Zodiac'] == \"Scorpio\"]\n",
    "data_sagittarius = data[data['Zodiac'] == \"Sagittarius\"]\n",
    "data_capricorn = data[data['Zodiac'] == \"Capricorn\"]\n",
    "data_aquarius = data[data['Zodiac'] == \"Aquarius\"]\n",
    "data_pisces = data[data['Zodiac'] == \"Pisces\"]"
   ]
  },
  {
   "cell_type": "code",
   "execution_count": null,
   "metadata": {},
   "outputs": [],
   "source": [
    "#convert scientific notation"
   ]
  },
  {
   "cell_type": "code",
   "execution_count": null,
   "metadata": {},
   "outputs": [],
   "source": [
    "#total networth calculations for each zodiac sign\n",
    "total_networth = data_aries['Networth'].sum()\n",
    "total_networth = \"{:,}\".format(total_networth)  #adds commas to int\n",
    "print('Aries networth total: ${}' .format(total_networth))\n",
    "\n",
    "average_networth = data_aries['Networth'].mean()\n",
    "average_networth = \"{:,}\".format(average_networth) #adds commas to int\n",
    "print('Aries average networth: ${}' .format(average_networth))\n",
    "\n",
    "median_networth = data_aries['Networth'].median()\n",
    "median_networth = \"{:,}\".format(median_networth) #adds commas to int\n",
    "print('Aries median networth: ${}' .format(median_networth))\n",
    "\n",
    "total_networth = data_taurus['Networth'].sum()\n",
    "total_networth = \"{:,}\".format(total_networth)  #adds commas to int\n",
    "print('Taurus networth total: {}' .format(total_networth))\n",
    "\n",
    "average_networth = data_taurus['Networth'].mean()\n",
    "average_networth = \"{:,}\".format(average_networth) #adds commas to int\n",
    "print('Taurus average networth: ${}' .format(average_networth))\n",
    "\n",
    "median_networth = data_taurus['Networth'].median()\n",
    "median_networth = \"{:,}\".format(median_networth) #adds commas to int\n",
    "print('Taurus median networth: ${}' .format(median_networth))\n",
    "\n",
    "total_networth = data_gemini['Networth'].sum()\n",
    "total_networth = \"{:,}\".format(total_networth)  #adds commas to int\n",
    "print('Gemini networth total: {}' .format(total_networth))\n",
    "\n",
    "average_networth = data_gemini['Networth'].mean()\n",
    "average_networth = \"{:,}\".format(average_networth) #adds commas to int\n",
    "print('Gemini average networth: ${}' .format(average_networth))\n",
    "\n",
    "median_networth = data_gemini['Networth'].median()\n",
    "median_networth = \"{:,}\".format(median_networth) #adds commas to int\n",
    "print('Gemini median networth: ${}' .format(median_networth))\n",
    "\n",
    "total_networth = data_cancer['Networth'].sum()\n",
    "total_networth = \"{:,}\".format(total_networth)  #adds commas to int\n",
    "print('Cancer networth total: {}' .format(total_networth))\n",
    "\n",
    "average_networth = data_cancer['Networth'].mean()\n",
    "average_networth = \"{:,}\".format(average_networth) #adds commas to int\n",
    "print('Cancer average networth: ${}' .format(average_networth))\n",
    "\n",
    "median_networth = data_cancer['Networth'].median()\n",
    "median_networth = \"{:,}\".format(median_networth) #adds commas to int\n",
    "print('Cancer median networth: ${}' .format(median_networth))\n",
    "\n",
    "total_networth = data_leo['Networth'].sum()\n",
    "total_networth = \"{:,}\".format(total_networth)  #adds commas to int\n",
    "print('Leo networth total: {}' .format(total_networth))\n",
    "\n",
    "average_networth = data_leo['Networth'].mean()\n",
    "average_networth = \"{:,}\".format(average_networth) #adds commas to int\n",
    "print('Leo average networth: ${}' .format(average_networth))\n",
    "\n",
    "median_networth = data_leo['Networth'].median()\n",
    "median_networth = \"{:,}\".format(median_networth) #adds commas to int\n",
    "print('Leo median networth: ${}' .format(median_networth))\n",
    "\n",
    "total_networth = data_virgo['Networth'].sum()\n",
    "total_networth = \"{:,}\".format(total_networth)  #adds commas to int\n",
    "print('Virgo networth total: {}' .format(total_networth))\n",
    "\n",
    "average_networth = data_virgo['Networth'].mean()\n",
    "average_networth = \"{:,}\".format(average_networth) #adds commas to int\n",
    "print('Virgo average networth: ${}' .format(average_networth))\n",
    "\n",
    "median_networth = data_virgo['Networth'].median()\n",
    "median_networth = \"{:,}\".format(median_networth) #adds commas to int\n",
    "print('Virgo median networth: ${}' .format(median_networth))\n",
    "\n",
    "total_networth = data_libra['Networth'].sum()\n",
    "total_networth = \"{:,}\".format(total_networth)  #adds commas to int\n",
    "print('Libra networth total: {}' .format(total_networth))\n",
    "\n",
    "average_networth = data_libra['Networth'].mean()\n",
    "average_networth = \"{:,}\".format(average_networth) #adds commas to int\n",
    "print('Libra average networth: ${}' .format(average_networth))\n",
    "\n",
    "median_networth = data_libra['Networth'].median()\n",
    "median_networth = \"{:,}\".format(median_networth) #adds commas to int\n",
    "print('Libra median networth: ${}' .format(median_networth))\n",
    "\n",
    "total_networth = data_scorpio['Networth'].sum()\n",
    "total_networth = \"{:,}\".format(total_networth)  #adds commas to int\n",
    "print('Scorpio networth total: {}' .format(total_networth))\n",
    "\n",
    "average_networth = data_scorpio['Networth'].mean()\n",
    "average_networth = \"{:,}\".format(average_networth) #adds commas to int\n",
    "print('Scorpio average networth: ${}' .format(average_networth))\n",
    "\n",
    "median_networth = data_scorpio['Networth'].median()\n",
    "median_networth = \"{:,}\".format(median_networth) #adds commas to int\n",
    "print('Scorpio median networth: ${}' .format(median_networth))\n",
    "\n",
    "total_networth = data_sagittarius['Networth'].sum()\n",
    "total_networth = \"{:,}\".format(total_networth)  #adds commas to int\n",
    "print('Sagittarius networth total: {}' .format(total_networth))\n",
    "\n",
    "average_networth = data_sagittarius['Networth'].mean()\n",
    "average_networth = \"{:,}\".format(average_networth) #adds commas to int\n",
    "print('Sagittarius average networth: ${}' .format(average_networth))\n",
    "\n",
    "median_networth = data_sagittarius['Networth'].median()\n",
    "median_networth = \"{:,}\".format(median_networth) #adds commas to int\n",
    "print('Sagittarius median networth: ${}' .format(median_networth))\n",
    "\n",
    "total_networth = data_capricorn['Networth'].sum()\n",
    "total_networth = \"{:,}\".format(total_networth)  #adds commas to int\n",
    "print('Capricorn networth total: {}' .format(total_networth))\n",
    "\n",
    "average_networth = data_capricorn['Networth'].mean()\n",
    "average_networth = \"{:,}\".format(average_networth) #adds commas to int\n",
    "print('Capricorn average networth: ${}' .format(average_networth))\n",
    "\n",
    "median_networth = data_capricorn['Networth'].median()\n",
    "median_networth = \"{:,}\".format(median_networth) #adds commas to int\n",
    "print('Capricorn median networth: ${}' .format(median_networth))\n",
    "\n",
    "total_networth = data_aquarius['Networth'].sum()\n",
    "total_networth = \"{:,}\".format(total_networth)  #adds commas to int\n",
    "print('Aquarius networth total: {}' .format(total_networth))\n",
    "\n",
    "average_networth = data_aquarius['Networth'].mean()\n",
    "average_networth = \"{:,}\".format(average_networth) #adds commas to int\n",
    "print('Aquarius average networth: ${}' .format(average_networth))\n",
    "\n",
    "median_networth = data_aquarius['Networth'].median()\n",
    "median_networth = \"{:,}\".format(median_networth) #adds commas to int\n",
    "print('Aquarius median networth: ${}' .format(median_networth))\n",
    "\n",
    "total_networth = data_pisces['Networth'].sum()\n",
    "total_networth = \"{:,}\".format(total_networth)  #adds commas to int\n",
    "print('Pisces networth total: {}' .format(total_networth))\n",
    "\n",
    "average_networth = data_pisces['Networth'].mean()\n",
    "average_networth = \"{:,}\".format(average_networth) #adds commas to int\n",
    "print('Pisces average networth: ${}' .format(average_networth))\n",
    "\n",
    "median_networth = data_pisces['Networth'].median()\n",
    "median_networth = \"{:,}\".format(median_networth) #adds commas to int\n",
    "print('Pisces median networth: ${}' .format(median_networth))"
   ]
  },
  {
   "cell_type": "code",
   "execution_count": null,
   "metadata": {},
   "outputs": [],
   "source": [
    "#Bar chart of each Zodiac sign's networth\n",
    "sns.barplot(x=df['Networth'],y=df['Zodiac'])"
   ]
  },
  {
   "cell_type": "code",
   "execution_count": null,
   "metadata": {},
   "outputs": [],
   "source": [
    "#finding median, average, total, max, and min nethworth of all CEOs\n",
    "median_networth = df['Networth'].median()\n",
    "median_networth = \"{:,}\".format(median_networth)  #adds commas to int\n",
    "print('Networth median: ${}' .format(median_networth))\n",
    "\n",
    "avg_networth = df['Networth'].mean()\n",
    "avg_networth = \"{:,}\".format(avg_networth)  #adds commas to int\n",
    "print('Networth average: ${}' .format(avg_networth))\n",
    "\n",
    "total_networth = df['Networth'].sum()\n",
    "total_networth = \"{:,}\".format(total_networth)  #adds commas to int\n",
    "print('Networth total: ${}' .format(total_networth))\n",
    "\n",
    "max_networth = df['Networth'].max()\n",
    "max_networth = \"{:,}\".format(max_networth)\n",
    "print('Highest networth is: ${}' .format(max_networth)) #adds commas to int\n",
    "\n",
    "min_networth = df['Networth'].min()\n",
    "min_networth = \"{:,}\".format(min_networth)\n",
    "print('Lowest networth is: ${}' .format(min_networth)) #adds commas to int"
   ]
  },
  {
   "cell_type": "markdown",
   "metadata": {},
   "source": [
    "This next section breaks down CEO zodiac signs by element"
   ]
  },
  {
   "cell_type": "code",
   "execution_count": null,
   "metadata": {},
   "outputs": [],
   "source": [
    "#dataframes for each Element\n",
    "data_air = data[data['Element'] == \"Air\"] \n",
    "data_water = data[data['Element'] == \"Water\"]\n",
    "data_fire = data[data['Element'] == \"Fire\"]\n",
    "data_earth = data[data['Element'] == \"Earth\"]"
   ]
  },
  {
   "cell_type": "code",
   "execution_count": null,
   "metadata": {},
   "outputs": [],
   "source": [
    "#dataframe of all air zodiac signs\n",
    "df[df['Element'].str.contains('Air')]"
   ]
  },
  {
   "cell_type": "code",
   "execution_count": null,
   "metadata": {},
   "outputs": [],
   "source": [
    "#mean,median, and total nethworth of air signs\n",
    "avg_networth = data_air['Networth'].mean()\n",
    "avg_networth = \"{:,}\".format(avg_networth)  #adds commas to int\n",
    "print('Average networth for Air signs: ${}' .format(avg_networth))\n",
    "\n",
    "median_networth = data_air['Networth'].median()\n",
    "median_networth = \"{:,}\".format(median_networth)  #adds commas to int\n",
    "print('Median networth for Air signs: ${}' .format(median_networth))\n",
    "\n",
    "min_networth = data_air['Networth'].min()\n",
    "min_networth = \"{:,}\".format(min_networth)  #adds commas to int\n",
    "print('Lowest networth for Air signs: ${}' .format(min_networth))\n",
    "\n",
    "max_networth = data_air['Networth'].max()\n",
    "max_networth = \"{:,}\".format(max_networth)  #adds commas to int\n",
    "print('Median networth for Air signs: ${}' .format(max_networth))\n",
    "\n",
    "total_networth = data_air['Networth'].sum()\n",
    "total_networth = \"{:,}\".format(total_networth)  #adds commas to int\n",
    "print('Total networth for Air signs: ${}' .format(total_networth))"
   ]
  },
  {
   "cell_type": "code",
   "execution_count": null,
   "metadata": {},
   "outputs": [],
   "source": [
    "#dataframe of all water signs\n",
    "df[df['Element'].str.contains('Water')]"
   ]
  },
  {
   "cell_type": "code",
   "execution_count": null,
   "metadata": {},
   "outputs": [],
   "source": [
    "#mean,median, and total nethworth of water signs\n",
    "avg_networth = data_water['Networth'].mean()\n",
    "avg_networth = \"{:,}\".format(avg_networth)  #adds commas to int\n",
    "print('Average networth for water signs: ${}' .format(avg_networth))\n",
    "\n",
    "median_networth = data_water['Networth'].median()\n",
    "median_networth = \"{:,}\".format(median_networth)  #adds commas to int\n",
    "print('Median networth for water signs: ${}' .format(median_networth))\n",
    "\n",
    "min_networth = data_water['Networth'].min()\n",
    "min_networth = \"{:,}\".format(min_networth)  #adds commas to int\n",
    "print('Lowest networth for water signs: ${}' .format(min_networth))\n",
    "\n",
    "max_networth = data_water['Networth'].max()\n",
    "max_networth = \"{:,}\".format(max_networth)  #adds commas to int\n",
    "print('Highest networth for water signs: ${}' .format(max_networth))\n",
    "\n",
    "total_networth = data_water['Networth'].sum()\n",
    "total_networth = \"{:,}\".format(total_networth)  #adds commas to int\n",
    "print('Total networth for water signs: ${}' .format(total_networth))"
   ]
  },
  {
   "cell_type": "code",
   "execution_count": null,
   "metadata": {},
   "outputs": [],
   "source": [
    "#dataframe for all fire signs\n",
    "df[df['Element'].str.contains('Fire')]"
   ]
  },
  {
   "cell_type": "code",
   "execution_count": null,
   "metadata": {},
   "outputs": [],
   "source": [
    "#mean,median, and total nethworth of fire signs\n",
    "avg_networth = data_fire['Networth'].mean()\n",
    "avg_networth = \"{:,}\".format(avg_networth)  #adds commas to int\n",
    "print('Average networth for fire signs: ${}' .format(avg_networth))\n",
    "\n",
    "median_networth = data_fire['Networth'].median()\n",
    "median_networth = \"{:,}\".format(median_networth)  #adds commas to int\n",
    "print('Median networth of fire signs: ${}' .format(median_networth))\n",
    "\n",
    "min_networth = data_fire['Networth'].min()\n",
    "min_networth = \"{:,}\".format(min_networth)  #adds commas to int\n",
    "print('Lowest networth of fire signs: ${}' .format(min_networth))\n",
    "\n",
    "max_networth = data_fire['Networth'].max()\n",
    "max_networth = \"{:,}\".format(max_networth)  #adds commas to int\n",
    "print('Highest networth of fire signs: ${}' .format(max_networth))\n",
    "\n",
    "total_networth = data_fire['Networth'].sum()\n",
    "total_networth = \"{:,}\".format(total_networth)  #adds commas to int\n",
    "print('Toal networth of fire signs: ${}' .format(total_networth))"
   ]
  },
  {
   "cell_type": "code",
   "execution_count": null,
   "metadata": {},
   "outputs": [],
   "source": [
    "#dataframe for all earth signs\n",
    "df[df['Element'].str.contains('Earth')]"
   ]
  },
  {
   "cell_type": "code",
   "execution_count": 106,
   "metadata": {},
   "outputs": [
    {
     "name": "stdout",
     "output_type": "stream",
     "text": [
      "Average networth for earth signs: $11,770,492,307.692308\n",
      "Median networth of earth signs: $60,000,000.0\n",
      "Lowest networth of earth signs: $7,000,000\n",
      "Highest networth of earth signs: $93,037,000,000\n",
      "Total networth of earth signs: $153,016,400,000\n"
     ]
    }
   ],
   "source": [
    "#mean,median, and total nethworth of earth signs\n",
    "avg_networth = data_earth['Networth'].mean()\n",
    "avg_networth = \"{:,}\".format(avg_networth)  #adds commas to int\n",
    "print('Average networth for earth signs: ${}' .format(avg_networth))\n",
    "\n",
    "median_networth = data_earth['Networth'].median()\n",
    "median_networth = \"{:,}\".format(median_networth)  #adds commas to int\n",
    "print('Median networth of earth signs: ${}' .format(median_networth))\n",
    "\n",
    "min_networth = data_earth['Networth'].min()\n",
    "min_networth = \"{:,}\".format(min_networth)  #adds commas to int\n",
    "print('Lowest networth of earth signs: ${}' .format(min_networth))\n",
    "\n",
    "(max_networth) = data_earth['Networth'].max()\n",
    "max_networth = \"{:,}\".format(max_networth)  #adds commas to int\n",
    "print('Highest networth of earth signs: ${}' .format(max_networth))\n",
    "\n",
    "earth_total_networth = data_earth['Networth'].sum()\n",
    "earth_total_networth = \"{:,}\".format(earth_total_networth)  #adds commas to int\n",
    "print('Total networth of earth signs: ${}' .format(earth_total_networth))"
   ]
  },
  {
   "cell_type": "code",
   "execution_count": 105,
   "metadata": {},
   "outputs": [
    {
     "name": "stdout",
     "output_type": "stream",
     "text": [
      "The networth range for Air sign's is: $95,270,000\n",
      "The networth range for Water sign's is: $1,507,000,000\n",
      "The networth range for Fire sign's is: $804,750,000\n",
      "The networth range for Earth sign's is: $93,030,000,000\n"
     ]
    }
   ],
   "source": [
    "#calculating the range or variance of networth between the 4 groups\n",
    "range = (data_air['Networth'].max()) - (data_air['Networth'].min())\n",
    "range = \"{:,}\".format(range)\n",
    "print(\"The networth range for Air sign's is: ${}\" .format(range))\n",
    "\n",
    "range = (data_water['Networth'].max()) - (data_water['Networth'].min())\n",
    "range = \"{:,}\".format(range)\n",
    "print(\"The networth range for Water sign's is: ${}\" .format(range))\n",
    "\n",
    "range = (data_fire['Networth'].max()) - (data_fire['Networth'].min())\n",
    "range = \"{:,}\".format(range)\n",
    "print(\"The networth range for Fire sign's is: ${}\" .format(range))\n",
    "\n",
    "range = (data_earth['Networth'].max()) - (data_earth['Networth'].min())\n",
    "range = \"{:,}\".format(range)\n",
    "print(\"The networth range for Earth sign's is: ${}\" .format(range))"
   ]
  },
  {
   "cell_type": "code",
   "execution_count": null,
   "metadata": {},
   "outputs": [],
   "source": [
    "#Bar chart of each Element's networth\n",
    "sns.barplot(x=df['Element'],y=df['Networth'])"
   ]
  },
  {
   "cell_type": "code",
   "execution_count": null,
   "metadata": {},
   "outputs": [],
   "source": [
    "#Which Element is most common\n",
    "df['Element'].value_counts()"
   ]
  },
  {
   "cell_type": "code",
   "execution_count": null,
   "metadata": {},
   "outputs": [],
   "source": [
    "#Break down of water signs by Zodiac name to see which occurs most often\n",
    "data_water['Zodiac'].value_counts()"
   ]
  },
  {
   "cell_type": "markdown",
   "metadata": {},
   "source": [
    "This is interesting because even though Capricorn is the most occuring Zodiac sign (it's element is Earth) and yet the most often occuring element is Water.\n",
    "The most occurring water sign is Pisces."
   ]
  },
  {
   "cell_type": "code",
   "execution_count": null,
   "metadata": {},
   "outputs": [],
   "source": [
    "#piechart of each element type\n",
    "df['Element'].value_counts().plot(kind='pie', figsize=(4,4))"
   ]
  },
  {
   "cell_type": "code",
   "execution_count": null,
   "metadata": {},
   "outputs": [],
   "source": [
    "#Breakdown detailing each type of industry\n",
    "df['Industry'].value_counts()"
   ]
  }
 ],
 "metadata": {
  "kernelspec": {
   "display_name": "Python 3.10.6 64-bit",
   "language": "python",
   "name": "python3"
  },
  "language_info": {
   "codemirror_mode": {
    "name": "ipython",
    "version": 3
   },
   "file_extension": ".py",
   "mimetype": "text/x-python",
   "name": "python",
   "nbconvert_exporter": "python",
   "pygments_lexer": "ipython3",
   "version": "3.10.6"
  },
  "orig_nbformat": 4,
  "vscode": {
   "interpreter": {
    "hash": "916dbcbb3f70747c44a77c7bcd40155683ae19c65e1c03b4aa3499c5328201f1"
   }
  }
 },
 "nbformat": 4,
 "nbformat_minor": 2
}
