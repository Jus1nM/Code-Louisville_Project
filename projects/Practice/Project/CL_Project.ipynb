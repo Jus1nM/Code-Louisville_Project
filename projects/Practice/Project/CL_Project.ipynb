{
 "cells": [
  {
   "cell_type": "code",
   "execution_count": null,
   "metadata": {},
   "outputs": [],
   "source": [
    "#import necessary modules\n",
    "import pandas as pd\n",
    "import statistics\n",
    "import matplotlib.pyplot as plt\n",
    "import numpy as np\n",
    "import seaborn as sns"
   ]
  },
  {
   "cell_type": "code",
   "execution_count": null,
   "metadata": {},
   "outputs": [],
   "source": [
    "#read csv file as a dataframe\n",
    "df = pd.read_csv(\"Fortune50.csv\")\n",
    "df.head(50)"
   ]
  },
  {
   "cell_type": "code",
   "execution_count": null,
   "metadata": {},
   "outputs": [],
   "source": [
    "df['Zodiac'].value_counts()"
   ]
  },
  {
   "cell_type": "markdown",
   "metadata": {},
   "source": [
    "As we can see, Capricon, Leo, and Pisces are the most common, each occuring 6 times with Sagittarius appearing the least amount at only one time."
   ]
  },
  {
   "cell_type": "code",
   "execution_count": null,
   "metadata": {},
   "outputs": [],
   "source": [
    "df['Zodiac'].describe()"
   ]
  },
  {
   "cell_type": "code",
   "execution_count": null,
   "metadata": {},
   "outputs": [],
   "source": [
    "df['Zodiac'].mode()"
   ]
  },
  {
   "cell_type": "code",
   "execution_count": null,
   "metadata": {},
   "outputs": [],
   "source": [
    "#clean data - fix typo: replace \"Sagitarius\" with \"Sagittarius\""
   ]
  },
  {
   "cell_type": "code",
   "execution_count": null,
   "metadata": {},
   "outputs": [],
   "source": [
    "data = pd.read_csv('Fortune50.csv')\n",
    "\n",
    "#dataframe for each zodiac sign\n",
    "data_aries = data[(data['Zodiac'] == \"Aries\")]\n",
    "data_taurus = data[data['Zodiac'] == \"Taurus\"]\n",
    "data_gemini = data[data['Zodiac'] == \"Gemini\"]\n",
    "data_cancer = data[data['Zodiac'] == \"Cancer\"]\n",
    "data_leo = data[data['Zodiac'] == \"Leo\"]\n",
    "data_virgo = data[data['Zodiac'] == \"Virgo\"]\n",
    "data_libra = data[data['Zodiac'] == \"Libra\"]\n",
    "data_scorpio = data[data['Zodiac'] == \"Scorpio\"]\n",
    "data_sagittarius = data[data['Zodiac'] == \"Sagittarius\"]\n",
    "data_capricorn = data[data['Zodiac'] == \"Capricorn\"]\n",
    "data_aquarius = data[data['Zodiac'] == \"Aquarius\"]\n",
    "data_pisces = data[data['Zodiac'] == \"Pisces\"]"
   ]
  },
  {
   "cell_type": "code",
   "execution_count": null,
   "metadata": {},
   "outputs": [],
   "source": [
    "#How many of each zodiac sign\n",
    "df['Zodiac'].value_counts()"
   ]
  },
  {
   "cell_type": "code",
   "execution_count": null,
   "metadata": {},
   "outputs": [],
   "source": [
    "#Piechart showing breakdown of each sign\n",
    "df['Zodiac'].value_counts().plot(kind='pie', figsize=(6,6))"
   ]
  },
  {
   "cell_type": "code",
   "execution_count": null,
   "metadata": {},
   "outputs": [],
   "source": [
    "#Percentage calculation of each zodiac sign"
   ]
  },
  {
   "cell_type": "code",
   "execution_count": null,
   "metadata": {},
   "outputs": [],
   "source": [
    "#convert scientific notation"
   ]
  },
  {
   "cell_type": "code",
   "execution_count": 99,
   "metadata": {},
   "outputs": [
    {
     "name": "stdout",
     "output_type": "stream",
     "text": [
      "Aries networth total: 145,900,000\n",
      "Aries average networth: 48,633,333.333333336\n",
      "Taurus networth total: 59,219,800,000\n",
      "Gemini networth total: 117,130,000\n",
      "Caner networth total: 3,151,000,000\n",
      "Leo networth total: 1,022,250,000\n",
      "Virgo networth total: 93,051,200,000\n",
      "Libra networth total: 218,880,000\n",
      "Scorpio networth total: 2,025,740,000\n",
      "Sagittarius networth total: 0\n",
      "Capricorn networth total: 745,400,000\n",
      "Aquarius networth total: 185,520,000\n",
      "Pisces networth total: 1,860,051,000\n"
     ]
    }
   ],
   "source": [
    "#total networth calculations for each zodiac sign\n",
    "total_networth = data_aries['Networth'].sum()\n",
    "total_networth = \"{:,}\".format(total_networth)  #adds commas to int\n",
    "print('Aries networth total: {}' .format(total_networth))\n",
    "\n",
    "average_networth = data_aries['Networth'].mean()\n",
    "average_networth = \"{:,}\".format(average_networth)\n",
    "print('Aries average networth: {}' .format(average_networth))\n",
    "\n",
    "total_networth = data_taurus['Networth'].sum()\n",
    "total_networth = \"{:,}\".format(total_networth)  #adds commas to int\n",
    "print('Taurus networth total: {}' .format(total_networth))\n",
    "\n",
    "total_networth = data_gemini['Networth'].sum()\n",
    "total_networth = \"{:,}\".format(total_networth)  #adds commas to int\n",
    "print('Gemini networth total: {}' .format(total_networth))\n",
    "\n",
    "total_networth = data_cancer['Networth'].sum()\n",
    "total_networth = \"{:,}\".format(total_networth)  #adds commas to int\n",
    "print('Caner networth total: {}' .format(total_networth))\n",
    "\n",
    "total_networth = data_leo['Networth'].sum()\n",
    "total_networth = \"{:,}\".format(total_networth)  #adds commas to int\n",
    "print('Leo networth total: {}' .format(total_networth))\n",
    "\n",
    "total_networth = data_virgo['Networth'].sum()\n",
    "total_networth = \"{:,}\".format(total_networth)  #adds commas to int\n",
    "print('Virgo networth total: {}' .format(total_networth))\n",
    "\n",
    "total_networth = data_libra['Networth'].sum()\n",
    "total_networth = \"{:,}\".format(total_networth)  #adds commas to int\n",
    "print('Libra networth total: {}' .format(total_networth))\n",
    "\n",
    "total_networth = data_scorpio['Networth'].sum()\n",
    "total_networth = \"{:,}\".format(total_networth)  #adds commas to int\n",
    "print('Scorpio networth total: {}' .format(total_networth))\n",
    "\n",
    "total_networth = data_sagittarius['Networth'].sum()\n",
    "total_networth = \"{:,}\".format(total_networth)  #adds commas to int\n",
    "print('Sagittarius networth total: {}' .format(total_networth))\n",
    "\n",
    "total_networth = data_capricorn['Networth'].sum()\n",
    "total_networth = \"{:,}\".format(total_networth)  #adds commas to int\n",
    "print('Capricorn networth total: {}' .format(total_networth))\n",
    "\n",
    "total_networth = data_aquarius['Networth'].sum()\n",
    "total_networth = \"{:,}\".format(total_networth)  #adds commas to int\n",
    "print('Aquarius networth total: {}' .format(total_networth))\n",
    "\n",
    "total_networth = data_pisces['Networth'].sum()\n",
    "total_networth = \"{:,}\".format(total_networth)  #adds commas to int\n",
    "print('Pisces networth total: {}' .format(total_networth))"
   ]
  },
  {
   "cell_type": "code",
   "execution_count": null,
   "metadata": {},
   "outputs": [],
   "source": [
    "#Bar chart of each Zodiac sign's networth\n",
    "sns.barplot(x=df['Zodiac'],y=df['Networth'])"
   ]
  },
  {
   "cell_type": "code",
   "execution_count": null,
   "metadata": {},
   "outputs": [],
   "source": [
    "#finding mean, median, and total nethworth of all CEOs\n",
    "median_networth = df['Networth'].median()\n",
    "median_networth = \"{:,}\".format(median_networth)  #adds commas to int\n",
    "print('Networth median: ${}' .format(median_networth))\n",
    "\n",
    "avg_networth = df['Networth'].mean()\n",
    "avg_networth = \"{:,}\".format(avg_networth)  #adds commas to int\n",
    "print('Networth average: ${}' .format(avg_networth))\n",
    "\n",
    "total_networth = df['Networth'].sum()\n",
    "total_networth = \"{:,}\".format(total_networth)  #adds commas to int\n",
    "print('Networth total: ${}' .format(total_networth))"
   ]
  },
  {
   "cell_type": "code",
   "execution_count": null,
   "metadata": {},
   "outputs": [],
   "source": [
    "#dataframes for each Element\n",
    "data_air = data[data['Element'] == \"Air\"] \n",
    "data_water = data[data['Element'] == \"Water\"]\n",
    "data_fire = data[data['Element'] == \"Fire\"]\n",
    "data_earth = data[data['Element'] == \"Earth\"]"
   ]
  },
  {
   "cell_type": "code",
   "execution_count": null,
   "metadata": {},
   "outputs": [],
   "source": [
    "#dataframe of all air zodiac signs\n",
    "df[df['Element'].str.contains('Air')]"
   ]
  },
  {
   "cell_type": "code",
   "execution_count": null,
   "metadata": {},
   "outputs": [],
   "source": [
    "#mean,median, and total nethworth of air signs\n",
    "avg_networth = data_air['Networth'].mean()\n",
    "avg_networth = \"{:,}\".format(avg_networth)  #adds commas to int\n",
    "print('Networth average: ${}' .format(avg_networth))\n",
    "\n",
    "median_networth = data_air['Networth'].median()\n",
    "median_networth = \"{:,}\".format(median_networth)  #adds commas to int\n",
    "print('Networth median: ${}' .format(median_networth))\n",
    "\n",
    "total_networth = data_air['Networth'].sum()\n",
    "total_networth = \"{:,}\".format(total_networth)  #adds commas to int\n",
    "print('Networth total: ${}' .format(total_networth))"
   ]
  },
  {
   "cell_type": "code",
   "execution_count": null,
   "metadata": {},
   "outputs": [],
   "source": [
    "df[df['Element'].str.contains('Water')]"
   ]
  },
  {
   "cell_type": "code",
   "execution_count": null,
   "metadata": {},
   "outputs": [],
   "source": [
    "#mean,median, and total nethworth of water signs\n",
    "avg_networth = data_water['Networth'].mean()\n",
    "avg_networth = \"{:,}\".format(avg_networth)  #adds commas to int\n",
    "print('Networth average: ${}' .format(avg_networth))\n",
    "\n",
    "median_networth = data_water['Networth'].median()\n",
    "median_networth = \"{:,}\".format(median_networth)  #adds commas to int\n",
    "print('Networth median: ${}' .format(median_networth))\n",
    "\n",
    "total_networth = data_water['Networth'].sum()\n",
    "total_networth = \"{:,}\".format(total_networth)  #adds commas to int\n",
    "print('Networth total: ${}' .format(total_networth))"
   ]
  },
  {
   "cell_type": "code",
   "execution_count": null,
   "metadata": {},
   "outputs": [],
   "source": [
    "df[df['Element'].str.contains('Fire')]"
   ]
  },
  {
   "cell_type": "code",
   "execution_count": null,
   "metadata": {},
   "outputs": [],
   "source": [
    "#mean,median, and total nethworth of fire signs\n",
    "avg_networth = data_fire['Networth'].mean()\n",
    "avg_networth = \"{:,}\".format(avg_networth)  #adds commas to int\n",
    "print('Networth average: ${}' .format(avg_networth))\n",
    "\n",
    "median_networth = data_fire['Networth'].median()\n",
    "median_networth = \"{:,}\".format(median_networth)  #adds commas to int\n",
    "print('Networth median: ${}' .format(median_networth))\n",
    "\n",
    "total_networth = data_fire['Networth'].sum()\n",
    "total_networth = \"{:,}\".format(total_networth)  #adds commas to int\n",
    "print('Networth total: ${}' .format(total_networth))"
   ]
  },
  {
   "cell_type": "code",
   "execution_count": null,
   "metadata": {},
   "outputs": [],
   "source": [
    "df[df['Element'].str.contains('Earth')]"
   ]
  },
  {
   "cell_type": "code",
   "execution_count": null,
   "metadata": {},
   "outputs": [],
   "source": [
    "#mean,median, and total nethworth of earth signs\n",
    "avg_networth = data_earth['Networth'].mean()\n",
    "avg_networth = \"{:,}\".format(avg_networth)  #adds commas to int\n",
    "print('Networth average: ${}' .format(avg_networth))\n",
    "\n",
    "median_networth = data_earth['Networth'].median()\n",
    "median_networth = \"{:,}\".format(median_networth)  #adds commas to int\n",
    "print('Networth median: ${}' .format(median_networth))\n",
    "\n",
    "total_networth = data_earth['Networth'].sum()\n",
    "total_networth = \"{:,}\".format(total_networth)  #adds commas to int\n",
    "print('Networth total: ${}' .format(total_networth))"
   ]
  },
  {
   "cell_type": "code",
   "execution_count": null,
   "metadata": {},
   "outputs": [],
   "source": [
    "#Bar chart of each Element's networth\n",
    "sns.barplot(x=df['Element'],y=df['Networth'])"
   ]
  },
  {
   "cell_type": "code",
   "execution_count": null,
   "metadata": {},
   "outputs": [],
   "source": [
    "#Which Element is most common\n",
    "df['Element'].value_counts()"
   ]
  },
  {
   "cell_type": "code",
   "execution_count": null,
   "metadata": {},
   "outputs": [],
   "source": [
    "#Break down of water signs by Zodiac name to see which occurs most often\n",
    "data_water['Zodiac'].value_counts()"
   ]
  },
  {
   "cell_type": "markdown",
   "metadata": {},
   "source": [
    "This is interesting because even though Capricorn is the most occuring Zodiac sign (it's element is Earth) and yet the most often occuring element is Water.\n",
    "The most occurring water sign is Pisces."
   ]
  },
  {
   "cell_type": "code",
   "execution_count": null,
   "metadata": {},
   "outputs": [],
   "source": [
    "#piechart of each element type\n",
    "df['Element'].value_counts().plot(kind='pie', figsize=(4,4))"
   ]
  },
  {
   "cell_type": "code",
   "execution_count": null,
   "metadata": {},
   "outputs": [],
   "source": [
    "#Breakdown detailing each type of industry\n",
    "df['Industry'].value_counts()"
   ]
  }
 ],
 "metadata": {
  "kernelspec": {
   "display_name": "Python 3.10.6 64-bit",
   "language": "python",
   "name": "python3"
  },
  "language_info": {
   "codemirror_mode": {
    "name": "ipython",
    "version": 3
   },
   "file_extension": ".py",
   "mimetype": "text/x-python",
   "name": "python",
   "nbconvert_exporter": "python",
   "pygments_lexer": "ipython3",
   "version": "3.10.6"
  },
  "orig_nbformat": 4,
  "vscode": {
   "interpreter": {
    "hash": "916dbcbb3f70747c44a77c7bcd40155683ae19c65e1c03b4aa3499c5328201f1"
   }
  }
 },
 "nbformat": 4,
 "nbformat_minor": 2
}
