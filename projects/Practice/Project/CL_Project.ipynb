{
 "cells": [
  {
   "cell_type": "code",
   "execution_count": 10,
   "metadata": {},
   "outputs": [],
   "source": [
    "#import necessary modules\n",
    "import pandas as pd\n",
    "import csv\n",
    "import statistics\n",
    "import matplotlib.pyplot as plt\n",
    "import numpy as np\n",
    "import seaborn as sns"
   ]
  },
  {
   "cell_type": "code",
   "execution_count": null,
   "metadata": {},
   "outputs": [],
   "source": [
    "#read csv file as a dataframe\n",
    "df = pd.read_csv(\"Fortune50.csv\")\n",
    "df.head(50)"
   ]
  },
  {
   "cell_type": "code",
   "execution_count": null,
   "metadata": {},
   "outputs": [],
   "source": [
    "data = pd.read_csv('Fortune50.csv')\n",
    "\n",
    "#dataframe for each zodiac sign\n",
    "data_aries = data[data['Zodiac'] == \"Aries\"] \n",
    "data_taurus = data[data['Zodiac'] == \"Taurus\"]\n",
    "data_gemini = data[data['Zodiac'] == \"Gemini\"]\n",
    "data_cancer = data[data['Zodiac'] == \"Cancer\"]\n",
    "data_leo = data[data['Zodiac'] == \"Leo\"]\n",
    "data_virgo = data[data['Zodiac'] == \"Virgo\"]\n",
    "data_libra = data[data['Zodiac'] == \"Libra\"]\n",
    "data_scorpio = data[data['Zodiac'] == \"Scorpio\"]\n",
    "data_sagittarius = data[data['Zodiac'] == \"Sagittarius\"]\n",
    "data_capricorn = data[data['Zodiac'] == \"Capricorn\"]\n",
    "data_aquarius = data[data['Zodiac'] == \"Aquarius\"]\n",
    "data_pisces = data[data['Zodiac'] == \"Pisces\"]"
   ]
  },
  {
   "cell_type": "code",
   "execution_count": null,
   "metadata": {},
   "outputs": [],
   "source": [
    "#How many of each zodiac sign\n"
   ]
  },
  {
   "cell_type": "code",
   "execution_count": null,
   "metadata": {},
   "outputs": [],
   "source": [
    "#Percentage calculation of each zodiac sign"
   ]
  },
  {
   "cell_type": "code",
   "execution_count": null,
   "metadata": {},
   "outputs": [],
   "source": [
    "#Pie chart of Zodiac sign percentage"
   ]
  },
  {
   "cell_type": "code",
   "execution_count": null,
   "metadata": {},
   "outputs": [],
   "source": [
    "#total networth calculations for each zodiac sign\n",
    "total_networth = data_aries['Networth'].sum()\n",
    "total_networth = \"{:,}\".format(total_networth)  #adds commas to int\n",
    "print('Aries networth total: {}' .format(total_networth))\n",
    "\n",
    "total_networth = data_taurus['Networth'].sum()\n",
    "total_networth = \"{:,}\".format(total_networth)  #adds commas to int\n",
    "print('Taurus networth total: {}' .format(total_networth))\n",
    "\n",
    "total_networth = data_gemini['Networth'].sum()\n",
    "total_networth = \"{:,}\".format(total_networth)  #adds commas to int\n",
    "print('Gemini networth total: {}' .format(total_networth))\n",
    "\n",
    "total_networth = data_cancer['Networth'].sum()\n",
    "total_networth = \"{:,}\".format(total_networth)  #adds commas to int\n",
    "print('Caner networth total: {}' .format(total_networth))\n",
    "\n",
    "total_networth = data_leo['Networth'].sum()\n",
    "total_networth = \"{:,}\".format(total_networth)  #adds commas to int\n",
    "print('Leo networth total: {}' .format(total_networth))\n",
    "\n",
    "total_networth = data_virgo['Networth'].sum()\n",
    "total_networth = \"{:,}\".format(total_networth)  #adds commas to int\n",
    "print('Virgo networth total: {}' .format(total_networth))\n",
    "\n",
    "total_networth = data_libra['Networth'].sum()\n",
    "total_networth = \"{:,}\".format(total_networth)  #adds commas to int\n",
    "print('Libra networth total: {}' .format(total_networth))\n",
    "\n",
    "total_networth = data_scorpio['Networth'].sum()\n",
    "total_networth = \"{:,}\".format(total_networth)  #adds commas to int\n",
    "print('Scorpio networth total: {}' .format(total_networth))\n",
    "\n",
    "total_networth = data_sagittarius['Networth'].sum()\n",
    "total_networth = \"{:,}\".format(total_networth)  #adds commas to int\n",
    "print('Sagittarius networth total: {}' .format(total_networth))\n",
    "\n",
    "total_networth = data_capricorn['Networth'].sum()\n",
    "total_networth = \"{:,}\".format(total_networth)  #adds commas to int\n",
    "print('Capricorn networth total: {}' .format(total_networth))\n",
    "\n",
    "total_networth = data_aquarius['Networth'].sum()\n",
    "total_networth = \"{:,}\".format(total_networth)  #adds commas to int\n",
    "print('Aquarius networth total: {}' .format(total_networth))\n",
    "\n",
    "total_networth = data_pisces['Networth'].sum()\n",
    "total_networth = \"{:,}\".format(total_networth)  #adds commas to int\n",
    "print('Pisces networth total: {}' .format(total_networth))"
   ]
  },
  {
   "cell_type": "code",
   "execution_count": null,
   "metadata": {},
   "outputs": [],
   "source": [
    "#Bar chart of each Zodiac sign's networth"
   ]
  },
  {
   "cell_type": "code",
   "execution_count": null,
   "metadata": {},
   "outputs": [],
   "source": [
    "#dataframes for each Element\n",
    "data_air = data[data['Element'] == \"Air\"] \n",
    "data_water = data[data['Element'] == \"Water\"]\n",
    "data_fire = data[data['Element'] == \"Fire\"]\n",
    "data_earth = data[data['Element'] == \"Earth\"]\n",
    "print(data_air)\n",
    "print(data_water)\n",
    "print(data_fire)\n",
    "print(data_earth)"
   ]
  },
  {
   "cell_type": "code",
   "execution_count": null,
   "metadata": {},
   "outputs": [],
   "source": [
    "#Which Zodiac sign and Element is most common\n",
    "mode_zodiac = df['Zodiac'].mode()\n",
    "print('Zodiac Mode: {}' .format(mode_zodiac))\n",
    "\n",
    "mode_element = df['Element'].mode()\n",
    "print('Element Mode: {}' .format(mode_element))\n",
    "\n",
    "#most occuring water sign\n",
    "mode_water = df['Element'].mode()\n",
    "print('Water Mode: {}' .format(mode_water))"
   ]
  },
  {
   "cell_type": "markdown",
   "metadata": {},
   "source": [
    "This is interesting because even though Capricorn is the most occuring Zodiac sign, it's element is Earth and yet the most often occuring element is Water."
   ]
  }
 ],
 "metadata": {
  "kernelspec": {
   "display_name": "Python 3.10.6 64-bit",
   "language": "python",
   "name": "python3"
  },
  "language_info": {
   "codemirror_mode": {
    "name": "ipython",
    "version": 3
   },
   "file_extension": ".py",
   "mimetype": "text/x-python",
   "name": "python",
   "nbconvert_exporter": "python",
   "pygments_lexer": "ipython3",
   "version": "3.10.6"
  },
  "orig_nbformat": 4,
  "vscode": {
   "interpreter": {
    "hash": "916dbcbb3f70747c44a77c7bcd40155683ae19c65e1c03b4aa3499c5328201f1"
   }
  }
 },
 "nbformat": 4,
 "nbformat_minor": 2
}
